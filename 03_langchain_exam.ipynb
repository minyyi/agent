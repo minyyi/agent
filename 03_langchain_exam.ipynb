{
 "cells": [
  {
   "cell_type": "code",
   "execution_count": 1,
   "id": "5319ee83",
   "metadata": {},
   "outputs": [
    {
     "data": {
      "text/plain": [
       "True"
      ]
     },
     "execution_count": 1,
     "metadata": {},
     "output_type": "execute_result"
    }
   ],
   "source": [
    "from dotenv import load_dotenv\n",
    "load_dotenv()"
   ]
  },
  {
   "cell_type": "code",
   "execution_count": 3,
   "id": "2069dd56",
   "metadata": {},
   "outputs": [],
   "source": [
    "import os\n",
    "from glob import glob\n",
    "\n",
    "from pprint import pprint\n",
    "import json"
   ]
  },
  {
   "cell_type": "markdown",
   "id": "87f95bc1",
   "metadata": {},
   "source": [
    "PDF 문서"
   ]
  },
  {
   "cell_type": "code",
   "execution_count": 4,
   "id": "4586b003",
   "metadata": {},
   "outputs": [
    {
     "data": {
      "text/plain": [
       "15"
      ]
     },
     "execution_count": 4,
     "metadata": {},
     "output_type": "execute_result"
    }
   ],
   "source": [
    "#PDF\n",
    "\n",
    "from langchain_community.document_loaders import PyPDFLoader\n",
    "\n",
    "pdf_loader = PyPDFLoader('./data/transformer.pdf')\n",
    "pdf_docs = pdf_loader.load()\n",
    "\n",
    "len(pdf_docs)"
   ]
  },
  {
   "cell_type": "code",
   "execution_count": 5,
   "id": "0a45ddc5",
   "metadata": {},
   "outputs": [
    {
     "data": {
      "text/plain": [
       "list"
      ]
     },
     "execution_count": 5,
     "metadata": {},
     "output_type": "execute_result"
    }
   ],
   "source": [
    "type(pdf_docs)"
   ]
  },
  {
   "cell_type": "code",
   "execution_count": 6,
   "id": "6225844e",
   "metadata": {},
   "outputs": [
    {
     "data": {
      "text/plain": [
       "Document(metadata={'source': './data/transformer.pdf', 'page': 0}, page_content='Provided proper attribution is provided, Google hereby grants permission to\\nreproduce the tables and figures in this paper solely for use in journalistic or\\nscholarly works.\\nAttention Is All You Need\\nAshish Vaswani∗\\nGoogle Brain\\navaswani@google.comNoam Shazeer∗\\nGoogle Brain\\nnoam@google.comNiki Parmar∗\\nGoogle Research\\nnikip@google.comJakob Uszkoreit∗\\nGoogle Research\\nusz@google.com\\nLlion Jones∗\\nGoogle Research\\nllion@google.comAidan N. Gomez∗ †\\nUniversity of Toronto\\naidan@cs.toronto.eduŁukasz Kaiser∗\\nGoogle Brain\\nlukaszkaiser@google.com\\nIllia Polosukhin∗ ‡\\nillia.polosukhin@gmail.com\\nAbstract\\nThe dominant sequence transduction models are based on complex recurrent or\\nconvolutional neural networks that include an encoder and a decoder. The best\\nperforming models also connect the encoder and decoder through an attention\\nmechanism. We propose a new simple network architecture, the Transformer,\\nbased solely on attention mechanisms, dispensing with recurrence and convolutions\\nentirely. Experiments on two machine translation tasks show these models to\\nbe superior in quality while being more parallelizable and requiring significantly\\nless time to train. Our model achieves 28.4 BLEU on the WMT 2014 English-\\nto-German translation task, improving over the existing best results, including\\nensembles, by over 2 BLEU. On the WMT 2014 English-to-French translation task,\\nour model establishes a new single-model state-of-the-art BLEU score of 41.8 after\\ntraining for 3.5 days on eight GPUs, a small fraction of the training costs of the\\nbest models from the literature. We show that the Transformer generalizes well to\\nother tasks by applying it successfully to English constituency parsing both with\\nlarge and limited training data.\\n∗Equal contribution. Listing order is random. Jakob proposed replacing RNNs with self-attention and started\\nthe effort to evaluate this idea. Ashish, with Illia, designed and implemented the first Transformer models and\\nhas been crucially involved in every aspect of this work. Noam proposed scaled dot-product attention, multi-head\\nattention and the parameter-free position representation and became the other person involved in nearly every\\ndetail. Niki designed, implemented, tuned and evaluated countless model variants in our original codebase and\\ntensor2tensor. Llion also experimented with novel model variants, was responsible for our initial codebase, and\\nefficient inference and visualizations. Lukasz and Aidan spent countless long days designing various parts of and\\nimplementing tensor2tensor, replacing our earlier codebase, greatly improving results and massively accelerating\\nour research.\\n†Work performed while at Google Brain.\\n‡Work performed while at Google Research.\\n31st Conference on Neural Information Processing Systems (NIPS 2017), Long Beach, CA, USA.arXiv:1706.03762v7  [cs.CL]  2 Aug 2023')"
      ]
     },
     "execution_count": 6,
     "metadata": {},
     "output_type": "execute_result"
    }
   ],
   "source": [
    "pdf_docs[0]"
   ]
  },
  {
   "cell_type": "code",
   "execution_count": 9,
   "id": "49e490d5",
   "metadata": {},
   "outputs": [
    {
     "name": "stdout",
     "output_type": "stream",
     "text": [
      "Provided proper attribution is provided, Google hereby grants permission to\n",
      "reproduce the tables and figures in this paper solely for use in journalistic or\n",
      "scholarly works.\n",
      "Attention Is All You Need\n",
      "Ashish Vaswani∗\n",
      "Google Brain\n",
      "avaswani@google.comNoam Shazeer∗\n",
      "Google Brain\n",
      "noam@google.comNiki Parmar∗\n",
      "Google Research\n",
      "nikip@google.comJakob Uszkoreit∗\n",
      "Google Research\n",
      "usz@google.com\n",
      "Llion Jones∗\n",
      "Google Research\n",
      "llion@google.comAidan N. Gomez∗ †\n",
      "University of Toronto\n",
      "aidan@cs.toronto.eduŁukasz Kaiser∗\n",
      "Google Brain\n",
      "lukaszkaiser@google.com\n",
      "Illia Polosukhin∗ ‡\n",
      "illia.polosukhin@gmail.com\n",
      "Abstract\n",
      "The dominant sequence transduction models are based on complex recurrent or\n",
      "convolutional neural networks that include an encoder and a decoder. The best\n",
      "performing models also connect the encoder and decoder through an attention\n",
      "mechanism. We propose a new simple network architecture, the Transformer,\n",
      "based solely on attention mechanisms, dispensing with recurrence and convolutions\n",
      "entirely. Experiments on two machine translation tasks show these models to\n",
      "be superior in quality while being more parallelizable and requiring significantly\n",
      "less time to train. Our model achieves 28.4 BLEU on the WMT 2014 English-\n",
      "to-German translation task, improving over the existing best results, including\n",
      "ensembles, by over 2 BLEU. On the WMT 2014 English-to-French translation task,\n",
      "our model establishes a new single-model state-of-the-art BLEU score of 41.8 after\n",
      "training for 3.5 days on eight GPUs, a small fraction of the training costs of the\n",
      "best models from the literature. We show that the Transformer generalizes well to\n",
      "other tasks by applying it successfully to English constituency parsing both with\n",
      "large and limited training data.\n",
      "∗Equal contribution. Listing order is random. Jakob proposed replacing RNNs with self-attention and started\n",
      "the effort to evaluate this idea. Ashish, with Illia, designed and implemented the first Transformer models and\n",
      "has been crucially involved in every aspect of this work. Noam proposed scaled dot-product attention, multi-head\n",
      "attention and the parameter-free position representation and became the other person involved in nearly every\n",
      "detail. Niki designed, implemented, tuned and evaluated countless model variants in our original codebase and\n",
      "tensor2tensor. Llion also experimented with novel model variants, was responsible for our initial codebase, and\n",
      "efficient inference and visualizations. Lukasz and Aidan spent countless long days designing various parts of and\n",
      "implementing tensor2tensor, replacing our earlier codebase, greatly improving results and massively accelerating\n",
      "our research.\n",
      "†Work performed while at Google Brain.\n",
      "‡Work performed while at Google Research.\n",
      "31st Conference on Neural Information Processing Systems (NIPS 2017), Long Beach, CA, USA.arXiv:1706.03762v7  [cs.CL]  2 Aug 2023\n"
     ]
    }
   ],
   "source": [
    "print(pdf_docs[0].page_content)"
   ]
  },
  {
   "cell_type": "code",
   "execution_count": 10,
   "id": "7de14715",
   "metadata": {},
   "outputs": [
    {
     "name": "stdout",
     "output_type": "stream",
     "text": [
      "{'source': './data/transformer.pdf', 'page': 0}\n"
     ]
    }
   ],
   "source": [
    "print(pdf_docs[0].metadata)"
   ]
  },
  {
   "cell_type": "code",
   "execution_count": 12,
   "id": "96aafd9c",
   "metadata": {},
   "outputs": [
    {
     "data": {
      "text/plain": [
       "2"
      ]
     },
     "execution_count": 12,
     "metadata": {},
     "output_type": "execute_result"
    }
   ],
   "source": [
    "#bs4 = \"0.0.2\" 웹에서 \n",
    "\n",
    "from langchain_community.document_loaders import WebBaseLoader\n",
    "\n",
    "web_loader = WebBaseLoader([\"https://python.langchain.com/docs/introduction/\", \"https://js.langchain.com\"])\n",
    "\n",
    "web_docs = web_loader.load()\n",
    "\n",
    "len(web_docs)"
   ]
  },
  {
   "cell_type": "code",
   "execution_count": 13,
   "id": "8e2f017c",
   "metadata": {},
   "outputs": [
    {
     "name": "stdout",
     "output_type": "stream",
     "text": [
      "{'source': 'https://python.langchain.com/docs/introduction/', 'title': 'Introduction | 🦜️🔗 LangChain', 'description': 'LangChain is a framework for developing applications powered by large language models (LLMs).', 'language': 'en'}\n"
     ]
    }
   ],
   "source": [
    "print(web_docs[0].metadata)"
   ]
  },
  {
   "cell_type": "code",
   "execution_count": 14,
   "id": "1bafe210",
   "metadata": {},
   "outputs": [
    {
     "name": "stdout",
     "output_type": "stream",
     "text": [
      "\n",
      "\n",
      "\n",
      "\n",
      "\n",
      "Introduction | 🦜️🔗 LangChain\n",
      "\n",
      "\n",
      "\n",
      "\n",
      "\n",
      "\n",
      "Skip to main contentWe are growing and hiring for multiple roles for LangChain, LangGraph and LangSmith.  Join our team!IntegrationsAPI ReferenceMoreContributingPeopleError referenceLangSmithLangGraphLangChain HubLangChain JS/TSv0.3v0.3v0.2v0.1💬SearchIntroductionTutorialsBuild a Question Answering application over a Graph DatabaseTutorialsBuild a simple LLM application with chat models and prompt templatesBuild a ChatbotBuild a Retrieval Augmented Generation (RAG) App: Part 2Build an Extraction ChainBuild an AgentTaggingBuild a Retrieval Augmented Generation (RAG) App: Part 1Build a semantic search engineBuild a Question/Answering system over SQL dataSummarize TextHow-to guidesHow-to guidesHow to use tools in a chainHow to use a vectorstore as a retrieverHow to add memory to chatbotsHow to use example selectorsHow to add a semantic layer over graph databaseHow to invoke runnables in parallelHow to stream chat model responsesHow to add default invocation args to a RunnableHow to add retrieval to chatbotsHow to use few shot examples in chat modelsHow to do tool/function callingHow to install LangChain packagesHow to add examples to the prompt for query analysisHow to use few shot examplesHow to run custom functionsHow to use output parsers to parse an LLM response into structured formatHow to handle cases where no queries are generatedHow to route between sub-chainsHow to return structured data from a modelHow to summarize text through parallelizationHow to summarize text through iterative refinementHow to summarize text in a single LLM callHow to use toolkitsHow to add ad-hoc tool calling capability to LLMs and Chat ModelsBuild an Agent with AgentExecutor (Legacy)How to construct knowledge graphsHow to partially format prompt templatesHow to handle multiple queries when doing query analysisHow to use built-in tools and toolkitsHow to pass through arguments from one step to the nextHow to compose prompts togetherHow to handle multiple retrievers when doing query analysisHow to add values to a chain's stateHow to construct filters for query analysisHow to configure runtime chain internalsHow deal with high cardinality categoricals when doing query analysisCustom Document LoaderHow to use the MultiQueryRetrieverHow to add scores to retriever resultsCachingHow to use callbacks in async environmentsHow to attach callbacks to a runnableHow to propagate callbacks  constructorHow to dispatch custom callback eventsHow to pass callbacks in at runtimeHow to split by characterHow to cache chat model responsesHow to handle rate limitsHow to init any model in one lineHow to track token usage in ChatModelsHow to add tools to chatbotsHow to split codeHow to do retrieval with contextual compressionHow to convert Runnables to ToolsHow to create custom callback handlersHow to create a custom chat model classCustom EmbeddingsHow to create a custom LLM classCustom RetrieverHow to create toolsHow to debug your LLM appsHow to load CSVsHow to load documents from a directoryHow to load HTMLHow to load JSONHow to load MarkdownHow to load Microsoft Office filesHow to load PDFsHow to load web pagesHow to create a dynamic (self-constructing) chainText embedding modelsHow to combine results from multiple retrieversHow to select examples from a LangSmith datasetHow to select examples by lengthHow to select examples by maximal marginal relevance (MMR)How to select examples by n-gram overlapHow to select examples by similarityHow to use reference examples when doing extractionHow to handle long text when doing extractionHow to use prompting alone (no tool calling) to do extractionHow to add fallbacks to a runnableHow to filter messagesHybrid SearchHow to use the LangChain indexing APIHow to inspect runnablesLangChain Expression Language CheatsheetHow to cache LLM responsesHow to track token usage for LLMsRun models locallyHow to get log probabilitiesHow to reorder retrieved results to mitigate the \"lost in the middle\" effectHow to split Markdown by HeadersHow to merge consecutive messages of the same typeHow to add message historyHow to migrate from legacy LangChain agents to LangGraphHow to retrieve using multiple vectors per documentHow to pass multimodal data to modelsHow to use multimodal promptsHow to create a custom Output ParserHow to use the output-fixing parserHow to parse JSON outputHow to retry when a parsing error occursHow to parse text from message objectsHow to parse XML outputHow to parse YAML outputHow to use the Parent Document RetrieverHow to use LangChain with different Pydantic versionsHow to add chat historyHow to get a RAG application to add citationsHow to do per-user retrievalHow to get your RAG application to return sourcesHow to stream results from your RAG applicationHow to split JSON dataHow to recursively split text by charactersResponse metadataHow to pass runtime secrets to runnablesHow to do \"self-querying\" retrievalHow to split text based on semantic similarityHow to chain runnablesHow to save and load LangChain objectsHow to split text by tokensHow to split HTMLHow to do question answering over CSVsHow to deal with large databases when doing SQL question-answeringHow to better prompt when doing SQL question-answeringHow to do query validation as part of SQL question-answeringHow to stream runnablesHow to stream responses from an LLMHow to use a time-weighted vector store retrieverHow to return artifacts from a toolHow to use chat models to call toolsHow to disable parallel tool callingHow to force models to call a toolHow to access the RunnableConfig from a toolHow to pass tool outputs to chat modelsHow to pass run time values to toolsHow to stream events from a toolHow to stream tool callsHow to convert tools to OpenAI FunctionsHow to handle tool errorsHow to use few-shot prompting with tool callingHow to add a human-in-the-loop for toolsHow to bind model-specific toolsHow to trim messagesHow to create and query vector storesConceptual guideAgentsArchitectureAsync programming with langchainCallbacksChat historyChat modelsDocument loadersEmbedding modelsEvaluationExample selectorsFew-shot promptingConceptual guideKey-value storesLangChain Expression Language (LCEL)MessagesMultimodalityOutput parsersPrompt TemplatesRetrieval augmented generation (RAG)RetrievalRetrieversRunnable interfaceStreamingStructured outputsTestingString-in, string-out llmsText splittersTokensTool callingToolsTracingVector storesWhy LangChain?Ecosystem🦜🛠️ LangSmith🦜🕸️ LangGraphVersionsv0.3v0.2Pydantic compatibilityMigrating from v0.0 chainsHow to migrate from v0.0 chainsMigrating from ConstitutionalChainMigrating from ConversationalChainMigrating from ConversationalRetrievalChainMigrating from LLMChainMigrating from LLMMathChainMigrating from LLMRouterChainMigrating from MapReduceDocumentsChainMigrating from MapRerankDocumentsChainMigrating from MultiPromptChainMigrating from RefineDocumentsChainMigrating from RetrievalQAMigrating from StuffDocumentsChainUpgrading to LangGraph memoryHow to migrate to LangGraph memoryHow to use BaseChatMessageHistory with LangGraphMigrating off ConversationBufferMemory or ConversationStringBufferMemoryMigrating off ConversationBufferWindowMemory or ConversationTokenBufferMemoryMigrating off ConversationSummaryMemory or ConversationSummaryBufferMemoryA Long-Term Memory AgentRelease policySecurity PolicyIntroductionOn this pageIntroduction\n",
      "LangChain is a framework for developing applications powered by large language models (LLMs).\n",
      "LangChain simplifies every stage of the LLM application lifecycle:\n",
      "\n",
      "Development: Build your applications using LangChain's open-source components and third-party integrations.\n",
      "Use LangGraph to build stateful agents with first-class streaming and human-in-the-loop support.\n",
      "Productionization: Use LangSmith to inspect, monitor and evaluate your applications, so that you can continuously optimize and deploy with confidence.\n",
      "Deployment: Turn your LangGraph applications into production-ready APIs and Assistants with LangGraph Platform.\n",
      "\n",
      "\n",
      "\n",
      "LangChain implements a standard interface for large language models and related\n",
      "technologies, such as embedding models and vector stores, and integrates with\n",
      "hundreds of providers. See the integrations page for\n",
      "more.\n",
      "\n",
      "Select chat model:Google Gemini▾OpenAIAnthropicAzureGoogle GeminiGoogle VertexAWSGroqCohereNVIDIAFireworks AIMistral AITogether AIIBM watsonxDatabricksxAIPerplexitypip install -qU \"langchain[google-genai]\"import getpassimport osif not os.environ.get(\"GOOGLE_API_KEY\"):  os.environ[\"GOOGLE_API_KEY\"] = getpass.getpass(\"Enter API key for Google Gemini: \")from langchain.chat_models import init_chat_modelmodel = init_chat_model(\"gemini-2.0-flash\", model_provider=\"google_genai\")\n",
      "model.invoke(\"Hello, world!\")\n",
      "noteThese docs focus on the Python LangChain library. Head here for docs on the JavaScript LangChain library.\n",
      "Architecture​\n",
      "The LangChain framework consists of multiple open-source libraries. Read more in the\n",
      "Architecture page.\n",
      "\n",
      "langchain-core: Base abstractions for chat models and other components.\n",
      "Integration packages (e.g. langchain-openai, langchain-anthropic, etc.): Important integrations have been split into lightweight packages that are co-maintained by the LangChain team and the integration developers.\n",
      "langchain: Chains, agents, and retrieval strategies that make up an application's cognitive architecture.\n",
      "langchain-community: Third-party integrations that are community maintained.\n",
      "langgraph: Orchestration framework for combining LangChain components into production-ready applications with persistence, streaming, and other key features. See LangGraph documentation.\n",
      "\n",
      "Guides​\n",
      "Tutorials​\n",
      "If you're looking to build something specific or are more of a hands-on learner, check out our tutorials section.\n",
      "This is the best place to get started.\n",
      "These are the best ones to get started with:\n",
      "\n",
      "Build a Simple LLM Application\n",
      "Build a Chatbot\n",
      "Build an Agent\n",
      "Introduction to LangGraph\n",
      "\n",
      "Explore the full list of LangChain tutorials here, and check out other LangGraph tutorials here. To learn more about LangGraph, check out our first LangChain Academy course, Introduction to LangGraph, available here.\n",
      "How-to guides​\n",
      "Here you’ll find short answers to “How do I….?” types of questions.\n",
      "These how-to guides don’t cover topics in depth – you’ll find that material in the Tutorials and the API Reference.\n",
      "However, these guides will help you quickly accomplish common tasks using chat models,\n",
      "vector stores, and other common LangChain components.\n",
      "Check out LangGraph-specific how-tos here.\n",
      "Conceptual guide​\n",
      "Introductions to all the key parts of LangChain you’ll need to know! Here you'll find high level explanations of all LangChain concepts.\n",
      "For a deeper dive into LangGraph concepts, check out this page.\n",
      "Integrations​\n",
      "LangChain is part of a rich ecosystem of tools that integrate with our framework and build on top of it.\n",
      "If you're looking to get up and running quickly with chat models, vector stores,\n",
      "or other LangChain components from a specific provider, check out our growing list of integrations.\n",
      "API reference​\n",
      "Head to the reference section for full documentation of all classes and methods in the LangChain Python packages.\n",
      "Ecosystem​\n",
      "🦜🛠️ LangSmith​\n",
      "Trace and evaluate your language model applications and intelligent agents to help you move from prototype to production.\n",
      "🦜🕸️ LangGraph​\n",
      "Build stateful, multi-actor applications with LLMs. Integrates smoothly with LangChain, but can be used without it. LangGraph powers production-grade agents, trusted by Linkedin, Uber, Klarna, GitLab, and many more.\n",
      "Additional resources​\n",
      "Versions​\n",
      "See what changed in v0.3, learn how to migrate legacy code, read up on our versioning policies, and more.\n",
      "Security​\n",
      "Read up on security best practices to make sure you're developing safely with LangChain.\n",
      "Contributing​\n",
      "Check out the developer's guide for guidelines on contributing and help getting your dev environment set up.Edit this pageWas this page helpful?NextTutorialsArchitectureGuidesTutorialsHow-to guidesConceptual guideIntegrationsAPI referenceEcosystem🦜🛠️ LangSmith🦜🕸️ LangGraphAdditional resourcesVersionsSecurityContributingCommunityTwitterGitHubOrganizationPythonJS/TSMoreHomepageBlogYouTubeCopyright © 2025 LangChain, Inc.\n",
      "\n",
      "\n"
     ]
    }
   ],
   "source": [
    "print(web_docs[0].page_content)"
   ]
  },
  {
   "cell_type": "markdown",
   "id": "2ea8bfa3",
   "metadata": {},
   "source": [
    "##### 3. JSON파일"
   ]
  },
  {
   "cell_type": "code",
   "execution_count": 15,
   "id": "986986bd",
   "metadata": {},
   "outputs": [
    {
     "name": "stdout",
     "output_type": "stream",
     "text": [
      "문서의 수:  5\n",
      "--------------------------------------------------\n",
      "첫번째 문서의 내용:  안녕하세요 여러분, 오늘 회의 시간 확인차 연락드립니다.\n",
      "--------------------------------------------------\n",
      "첫번째 문서의 metadata:  {'source': 'C:\\\\AI_Prompt\\\\workspace\\\\ai_agent_work2\\\\langchain_env\\\\data\\\\kakao_chat.json', 'seq_num': 1}\n"
     ]
    }
   ],
   "source": [
    "from langchain_community.document_loaders import JSONLoader\n",
    "\n",
    "json_loader = JSONLoader(\n",
    "    file_path='./data/kakao_chat.json',\n",
    "    jq_schema=\".messages[].content\", #target json파일 카톡 메시지만 불러오기 \n",
    "    text_content=True,\n",
    ")\n",
    "\n",
    "json_docs = json_loader.load()\n",
    "\n",
    "print(\"문서의 수: \", len(json_docs))\n",
    "print('-'*50)\n",
    "print(\"첫번째 문서의 내용: \", json_docs[0].page_content)\n",
    "print('-'*50)\n",
    "print(\"첫번째 문서의 metadata: \", json_docs[0].metadata)"
   ]
  },
  {
   "cell_type": "code",
   "execution_count": 16,
   "id": "cf9ed562",
   "metadata": {},
   "outputs": [
    {
     "name": "stdout",
     "output_type": "stream",
     "text": [
      "문서의 수:  5\n",
      "--------------------------------------------------\n",
      "첫번째 문서의 내용:  {\"sender\": \"\\uae40\\ucca0\\uc218\", \"timestamp\": \"2023-09-15 09:30:22\", \"content\": \"\\uc548\\ub155\\ud558\\uc138\\uc694 \\uc5ec\\ub7ec\\ubd84, \\uc624\\ub298 \\ud68c\\uc758 \\uc2dc\\uac04 \\ud655\\uc778\\ucc28 \\uc5f0\\ub77d\\ub4dc\\ub9bd\\ub2c8\\ub2e4.\"}\n",
      "--------------------------------------------------\n",
      "첫번째 문서의 metadata:  {'source': 'C:\\\\AI_Prompt\\\\workspace\\\\ai_agent_work2\\\\langchain_env\\\\data\\\\kakao_chat.json', 'seq_num': 1}\n"
     ]
    }
   ],
   "source": [
    "from langchain_community.document_loaders import JSONLoader\n",
    "\n",
    "json_loader = JSONLoader(\n",
    "    file_path='./data/kakao_chat.json',\n",
    "    jq_schema=\".messages[]\", #target text 아님 리스트 전체\n",
    "    text_content=False, #그래서 false\n",
    ")\n",
    "\n",
    "json_docs = json_loader.load()\n",
    "\n",
    "print(\"문서의 수: \", len(json_docs))\n",
    "print('-'*50)\n",
    "print(\"첫번째 문서의 내용: \", json_docs[0].page_content)\n",
    "print('-'*50)\n",
    "print(\"첫번째 문서의 metadata: \", json_docs[0].metadata)"
   ]
  },
  {
   "cell_type": "code",
   "execution_count": 21,
   "id": "1d71f0db",
   "metadata": {},
   "outputs": [
    {
     "name": "stdout",
     "output_type": "stream",
     "text": [
      "문서의 수:  5\n",
      "--------------------------------------------------\n",
      "첫번째 문서의 내용:  {\"sender\": \"김철수\", \"timestamp\": \"2023-09-15 09:30:22\", \"content\": \"안녕하세요 여러분, 오늘 회의 시간 확인차 연락드립니다.\"}\n",
      "--------------------------------------------------\n",
      "첫번째 문서의 metadata:  {'source': 'C:\\\\AI_Prompt\\\\workspace\\\\ai_agent_work2\\\\langchain_env\\\\data\\\\kakao_chat.json', 'seq_num': 1}\n"
     ]
    }
   ],
   "source": [
    "decoded_json_docs = []\n",
    "for doc in json_docs:\n",
    "    \n",
    "    decoded_data = json.loads(doc.page_content)\n",
    "    \n",
    "    \n",
    "    decoded_json_docs.append(\n",
    "        {\n",
    "            \"page_content\": json.dumps(decoded_data, ensure_ascii=False),\n",
    "            \"metadata\": doc.metadata\n",
    "        }\n",
    "    )\n",
    "\n",
    "\n",
    "print(\"문서의 수: \", len(decoded_json_docs))\n",
    "print('-'*50)\n",
    "print(\"첫번째 문서의 내용: \", decoded_json_docs[0]['page_content'])\n",
    "print('-'*50)\n",
    "print(\"첫번째 문서의 metadata: \", decoded_json_docs[0]['metadata'])"
   ]
  },
  {
   "cell_type": "markdown",
   "id": "ed4e2e3e",
   "metadata": {},
   "source": [
    "도큐먼트 객체를 만들어서 처리하는 방법"
   ]
  },
  {
   "cell_type": "code",
   "execution_count": 23,
   "id": "c163c428",
   "metadata": {},
   "outputs": [
    {
     "name": "stdout",
     "output_type": "stream",
     "text": [
      "문서의 수:  5\n",
      "--------------------------------------------------\n",
      "첫번째 문서의 내용:  {\"sender\": \"김철수\", \"timestamp\": \"2023-09-15 09:30:22\", \"content\": \"안녕하세요 여러분, 오늘 회의 시간 확인차 연락드립니다.\"}\n",
      "--------------------------------------------------\n",
      "첫번째 문서의 metadata:  {'source': 'C:\\\\AI_Prompt\\\\workspace\\\\ai_agent_work2\\\\langchain_env\\\\data\\\\kakao_chat.json', 'seq_num': 1}\n"
     ]
    }
   ],
   "source": [
    "from langchain_core.documents import Document\n",
    "\n",
    "decoded_json_docs = []\n",
    "for doc in json_docs:\n",
    "    \n",
    "    decoded_data = json.loads(doc.page_content)\n",
    "    \n",
    "    document_obj = Document(\n",
    "        page_content = json.dumps(decoded_data, ensure_ascii=False),\n",
    "        metadata= doc.metadata\n",
    "    )\n",
    "\n",
    "    decoded_json_docs.append(document_obj)\n",
    "\n",
    "print(\"문서의 수: \", len(decoded_json_docs))\n",
    "print('-'*50)\n",
    "print(\"첫번째 문서의 내용: \", decoded_json_docs[0].page_content)\n",
    "print('-'*50)\n",
    "print(\"첫번째 문서의 metadata: \", decoded_json_docs[0].metadata)"
   ]
  },
  {
   "cell_type": "code",
   "execution_count": 29,
   "id": "ba8a9c71",
   "metadata": {},
   "outputs": [
    {
     "name": "stdout",
     "output_type": "stream",
     "text": [
      "문서의 수:  5\n",
      "--------------------------------------------------\n",
      "첫번째 문서의 내용:  안녕하세요 여러분, 오늘 회의 시간 확인차 연락드립니다.\n",
      "--------------------------------------------------\n",
      "첫번째 문서의 metadata:  {'source': 'C:\\\\AI_Prompt\\\\workspace\\\\ai_agent_work2\\\\langchain_env\\\\data\\\\kakao_chat.jsonl', 'seq_num': 1}\n"
     ]
    }
   ],
   "source": [
    "#{}나열\n",
    "#jsonl파일 로드 하기 \n",
    "\n",
    "jsonl_loader = JSONLoader(\n",
    "    file_path='./data/kakao_chat.jsonl',\n",
    "    jq_schema=\".\", #한줄 {} 한개를 의미하는 거임\n",
    "    content_key='content',\n",
    "    text_content=True,\n",
    "    json_lines=True,\n",
    ")\n",
    "\n",
    "jsonl_docs = jsonl_loader.load()\n",
    "\n",
    "print(\"문서의 수: \", len(jsonl_docs))\n",
    "print('-'*50)\n",
    "print(\"첫번째 문서의 내용: \", jsonl_docs[0].page_content)\n",
    "print('-'*50)\n",
    "print(\"첫번째 문서의 metadata: \", jsonl_docs[0].metadata)\n"
   ]
  },
  {
   "cell_type": "code",
   "execution_count": 31,
   "id": "e90abed6",
   "metadata": {},
   "outputs": [
    {
     "name": "stdout",
     "output_type": "stream",
     "text": [
      "문서의 수:  10\n",
      "--------------------------------------------------\n",
      "첫번째 문서의 내용:  Team: KIA 타이거즈\n",
      "City: 광주\n",
      "Founded: 1982\n",
      "Home Stadium: 광주-기아 챔피언스 필드\n",
      "Championships: 11\n",
      "Introduction: KBO 리그의 전통 강호로, 역대 최다 우승 기록을 보유하고 있다. '타이거즈 스피릿'으로 유명하며, 양현종, 안치홍 등 스타 선수들을 배출했다. 광주를 연고로 하는 유일한 프로야구팀으로 지역 사랑이 강하다.\n",
      "--------------------------------------------------\n",
      "첫번째 문서의 metadata:  {'source': './data/kbo_teams_2023.csv', 'row': 0}\n"
     ]
    }
   ],
   "source": [
    "#csv\n",
    "\n",
    "from langchain_community.document_loaders import CSVLoader\n",
    "\n",
    "csv_loader = CSVLoader(\n",
    "    file_path='./data/kbo_teams_2023.csv', encoding='utf-8'\n",
    "    \n",
    ")\n",
    "\n",
    "csv_docs = csv_loader.load()\n",
    "\n",
    "print(\"문서의 수: \", len(csv_docs))\n",
    "print('-'*50)\n",
    "print(\"첫번째 문서의 내용: \", csv_docs[0].page_content)\n",
    "print('-'*50)\n",
    "print(\"첫번째 문서의 metadata: \", csv_docs[0].metadata)\n"
   ]
  },
  {
   "cell_type": "code",
   "execution_count": null,
   "id": "a0ad2be3",
   "metadata": {},
   "outputs": [],
   "source": []
  }
 ],
 "metadata": {
  "kernelspec": {
   "display_name": "langchain-env-e_qH7Re7-py3.11",
   "language": "python",
   "name": "python3"
  },
  "language_info": {
   "codemirror_mode": {
    "name": "ipython",
    "version": 3
   },
   "file_extension": ".py",
   "mimetype": "text/x-python",
   "name": "python",
   "nbconvert_exporter": "python",
   "pygments_lexer": "ipython3",
   "version": "3.11.9"
  }
 },
 "nbformat": 4,
 "nbformat_minor": 5
}
